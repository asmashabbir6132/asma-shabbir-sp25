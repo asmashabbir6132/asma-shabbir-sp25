{
 "cells": [
  {
   "cell_type": "code",
   "execution_count": 9,
   "id": "14afac77-7671-4167-8f86-1f00fc985545",
   "metadata": {},
   "outputs": [
    {
     "name": "stdout",
     "output_type": "stream",
     "text": [
      "its a positive number\n"
     ]
    }
   ],
   "source": [
    "#.    Questionn no 1:\n",
    "#.    write a programm to check if a number is postive, negative, or zero.\n",
    "num=12\n",
    "if num>0:\n",
    "     print(\"its a positive number\")\n",
    "elif num>=10:\n",
    "     pint(\"its a negative number\")\n",
    "else:\n",
    "     print(\"its a zero number\")"
   ]
  },
  {
   "cell_type": "code",
   "execution_count": 13,
   "id": "73bdcc81-d9f7-4163-91e0-7854343d9b32",
   "metadata": {},
   "outputs": [
    {
     "name": "stdout",
     "output_type": "stream",
     "text": [
      "its a leap year\n"
     ]
    }
   ],
   "source": [
    "#. Question no 2:\n",
    "#. write a programm to check wether its a leao year or not.\n",
    "feb_days=29\n",
    "if feb_days<29:\n",
    "    print(\"its not a leap year\")\n",
    "elif feb_days==29:\n",
    "    print(\"its a leap year\")"
   ]
  },
  {
   "cell_type": "code",
   "execution_count": 1,
   "id": "b74abebd-7a8f-4d2d-bbc8-c9c5b7b7a9b4",
   "metadata": {},
   "outputs": [
    {
     "name": "stdin",
     "output_type": "stream",
     "text": [
      "enter first number: 26\n",
      "enter operator(+,-,*,/) \n",
      "enter second numer: 5\n"
     ]
    },
    {
     "name": "stdout",
     "output_type": "stream",
     "text": [
      "error:invalid opertor\n"
     ]
    }
   ],
   "source": [
    "#. question no 3\n",
    "num1=float(input(\"enter first number:\"))\n",
    "op=input(\"enter operator(+,-,*,/)\")\n",
    "num2=float(input(\"enter second numer:\"))\n",
    "if op==\"+\":\n",
    "    print(\"result:\",num1+num2)\n",
    "elif op==\"-\":\n",
    "    print(\"result:\",num1-num2)\n",
    "elif op==\"*\":\n",
    "    print(\"result:\",num1*num2)\n",
    "elif op==\"/\":\n",
    "    if num2 !=0:\n",
    "        print(\"result:\",num1/num2)\n",
    "    else:\n",
    "        print(\"error:cannot divided by zero\")\n",
    "else:\n",
    "    print(\"error:invalid opertor\")"
   ]
  },
  {
   "cell_type": "code",
   "execution_count": 3,
   "id": "14f7e73a-2fc3-4219-b288-2e63bc63b55c",
   "metadata": {},
   "outputs": [
    {
     "name": "stdin",
     "output_type": "stream",
     "text": [
      "enter students marks: 100\n"
     ]
    },
    {
     "name": "stdout",
     "output_type": "stream",
     "text": [
      "grade:a\n"
     ]
    }
   ],
   "source": [
    "#.Question no 4\n",
    "marks=float(input(\"enter students marks:\"))\n",
    "if marks>=85:\n",
    "    print(\"grade:a\")\n",
    "elif marks>=70:\n",
    "    print(\"grade:b\")\n",
    "elif marks>=50:\n",
    "    print(\"grade:c\")\n",
    "else:\n",
    "    print(\"grade:f\")"
   ]
  },
  {
   "cell_type": "code",
   "execution_count": 5,
   "id": "ea555380-cc38-405b-bffc-e33619c337be",
   "metadata": {},
   "outputs": [
    {
     "name": "stdin",
     "output_type": "stream",
     "text": [
      "Enter your age:  23\n",
      "Enter your income:  40000\n"
     ]
    },
    {
     "name": "stdout",
     "output_type": "stream",
     "text": [
      "Eligible for membership.\n"
     ]
    }
   ],
   "source": [
    "#Question no 5\n",
    "age = int(input(\"Enter your age: \"))\n",
    "income = float(input(\"Enter your income: \"))\n",
    "if age >= 21 and income > 25000:\n",
    "    print(\"Eligible for membership.\")\n",
    "else:\n",
    "    print(\"Not eligible.\")"
   ]
  },
  {
   "cell_type": "code",
   "execution_count": 7,
   "id": "540f5c33-332f-4c7f-a584-5de740cdb9bd",
   "metadata": {},
   "outputs": [
    {
     "name": "stdin",
     "output_type": "stream",
     "text": [
      "Enter a number:  6\n"
     ]
    },
    {
     "name": "stdout",
     "output_type": "stream",
     "text": [
      "Fizz\n"
     ]
    }
   ],
   "source": [
    "# Question no 6\n",
    "number = int(input(\"Enter a number: \"))\n",
    "if number % 3 == 0 and number % 5 == 0:\n",
    "    print(\"FizzBuzz\")\n",
    "elif number % 3 == 0:\n",
    "    print(\"Fizz\")\n",
    "elif number % 5 == 0:\n",
    "    print(\"Buzz\")\n",
    "else:\n",
    "    print(number)"
   ]
  },
  {
   "cell_type": "code",
   "execution_count": 9,
   "id": "9d6cbe66-b7dd-4bda-a078-16fd2cdc02af",
   "metadata": {},
   "outputs": [
    {
     "name": "stdin",
     "output_type": "stream",
     "text": [
      "Enter a single character:  4\n"
     ]
    },
    {
     "name": "stdout",
     "output_type": "stream",
     "text": [
      "It's a digit.\n"
     ]
    }
   ],
   "source": [
    "# Question no7\n",
    "char = input(\"Enter a single character: \")\n",
    "if len(char) != 1:\n",
    "    print(\"Please enter exactly one character.\")\n",
    "elif char.isalpha():\n",
    "    if char.lower() in \"aeiou\":\n",
    "        print(\"It's a vowel.\")\n",
    "    else:\n",
    "        print(\"It's a consonant.\")\n",
    "elif char.isdigit():\n",
    "    print(\"It's a digit.\")\n",
    "else:\n",
    "    print(\"It's a special character.\")"
   ]
  },
  {
   "cell_type": "code",
   "execution_count": 11,
   "id": "366a2a0a-a220-40ac-ab82-d7e1436087d2",
   "metadata": {},
   "outputs": [
    {
     "name": "stdin",
     "output_type": "stream",
     "text": [
      "Enter the current day (e.g., Monday, Tuesday):  Thursday\n"
     ]
    },
    {
     "name": "stdout",
     "output_type": "stream",
     "text": [
      "Time to work!\n"
     ]
    }
   ],
   "source": [
    "# Question no 8\n",
    "day = input(\"Enter the current day (e.g., Monday, Tuesday): \")\n",
    "if day == \"Saturday\" or day == \"Sunday\":\n",
    "    print(\"Enjoy your weekend!\")\n",
    "else:\n",
    "    print(\"Time to work!\")"
   ]
  },
  {
   "cell_type": "code",
   "execution_count": 13,
   "id": "d65246cc-a884-4735-9f96-af078d1a5261",
   "metadata": {},
   "outputs": [
    {
     "name": "stdin",
     "output_type": "stream",
     "text": [
      "Enter your years of service:  40\n",
      "Enter your current salary:  60000\n"
     ]
    },
    {
     "name": "stdout",
     "output_type": "stream",
     "text": [
      "Your bonus is: $12000.00\n"
     ]
    }
   ],
   "source": [
    "# Question no 9\n",
    "years_of_service = int(input(\"Enter your years of service: \"))\n",
    "salary = float(input(\"Enter your current salary: \"))\n",
    "if years_of_service >= 10:\n",
    "    bonus_percentage = 0.20\n",
    "elif years_of_service >= 5:\n",
    "    bonus_percentage = 0.10\n",
    "else:\n",
    "    bonus_percentage =0.05\n",
    "bonus = salary * bonus_percentage\n",
    "print(f\"Your bonus is: ${bonus:.2f}\")"
   ]
  },
  {
   "cell_type": "code",
   "execution_count": 15,
   "id": "0714dcac-c976-4f43-a495-fbc5eb0cd3b0",
   "metadata": {},
   "outputs": [
    {
     "name": "stdin",
     "output_type": "stream",
     "text": [
      "Enter a number:  56\n"
     ]
    },
    {
     "name": "stdout",
     "output_type": "stream",
     "text": [
      "The number is positive.\n",
      "It is even.\n"
     ]
    }
   ],
   "source": [
    "# Question no 10\n",
    "num = int(input(\"Enter a number: \"))\n",
    "if num > 0:\n",
    "    print(\"The number is positive.\")\n",
    "    if num % 2 == 0:\n",
    "        print(\"It is even.\")\n",
    "    else:\n",
    "        print(\"It is odd.\")\n",
    "elif num < 0:\n",
    "    print(\"The number is negative.\")\n",
    "else:\n",
    "    print(\"The number is zero.\")"
   ]
  },
  {
   "cell_type": "code",
   "execution_count": null,
   "id": "48182fbe-f2e2-4c8b-b351-c21e27244b52",
   "metadata": {},
   "outputs": [],
   "source": []
  }
 ],
 "metadata": {
  "kernelspec": {
   "display_name": "Python [conda env:base] *",
   "language": "python",
   "name": "conda-base-py"
  },
  "language_info": {
   "codemirror_mode": {
    "name": "ipython",
    "version": 3
   },
   "file_extension": ".py",
   "mimetype": "text/x-python",
   "name": "python",
   "nbconvert_exporter": "python",
   "pygments_lexer": "ipython3",
   "version": "3.12.7"
  }
 },
 "nbformat": 4,
 "nbformat_minor": 5
}
